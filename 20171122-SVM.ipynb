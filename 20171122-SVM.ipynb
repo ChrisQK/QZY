{
 "cells": [
  {
   "cell_type": "code",
   "execution_count": 19,
   "metadata": {
    "collapsed": true
   },
   "outputs": [],
   "source": [
    "# linear SVM\n",
    "library(e1071);"
   ]
  },
  {
   "cell_type": "code",
   "execution_count": 20,
   "metadata": {
    "collapsed": true
   },
   "outputs": [],
   "source": [
    "data<-read.csv(\"all.csv\",sep=\",\",header=T);\n",
    "data<-na.omit(data);\n",
    "data<-cbind(data,rep(0,length(data[,1])));"
   ]
  },
  {
   "cell_type": "code",
   "execution_count": 22,
   "metadata": {
    "collapsed": false,
    "scrolled": true
   },
   "outputs": [
    {
     "name": "stderr",
     "output_type": "stream",
     "text": [
      "Warning message in Ops.factor(data[, 9], 24):\n",
      "“‘>’ not meaningful for factors”"
     ]
    },
    {
     "data": {
      "text/html": [
       "<table>\n",
       "<thead><tr><th></th><th scope=col>Sample_geo_accession</th><th scope=col>gender</th><th scope=col>dagnoss</th><th scope=col>grade</th><th scope=col>age</th><th scope=col>RT</th><th scope=col>CT</th><th scope=col>event</th><th scope=col>survival</th><th scope=col>survivalType</th><th scope=col>codel</th><th scope=col>IDH1</th><th scope=col>HDType</th></tr></thead>\n",
       "<tbody>\n",
       "\t<tr><th scope=row>1</th><td>GSM405201</td><td>1        </td><td>OD       </td><td>3        </td><td>45       </td><td>1        </td><td>0        </td><td>1        </td><td>117.8    </td><td>3        </td><td>1        </td><td>1        </td><td>1        </td></tr>\n",
       "\t<tr><th scope=row>2</th><td>GSM405202</td><td>0        </td><td>OD       </td><td>3        </td><td>29       </td><td>1        </td><td>0        </td><td>1        </td><td>140.0    </td><td>4        </td><td>1        </td><td>1        </td><td>1        </td></tr>\n",
       "\t<tr><th scope=row>3</th><td>GSM405203</td><td>0        </td><td>OD       </td><td>3        </td><td>39       </td><td>1        </td><td>0        </td><td>1        </td><td>107.0    </td><td>3        </td><td>1        </td><td>0        </td><td>1        </td></tr>\n",
       "\t<tr><th scope=row>5</th><td>GSM405205</td><td>0        </td><td>OD       </td><td>3        </td><td>48       </td><td>1        </td><td>1        </td><td>1        </td><td> 38.9    </td><td>1        </td><td>1        </td><td>1        </td><td>1        </td></tr>\n",
       "\t<tr><th scope=row>6</th><td>GSM405206</td><td>0        </td><td>OD       </td><td>3        </td><td>32       </td><td>1        </td><td>0        </td><td>1        </td><td> 81.7    </td><td>2        </td><td>1        </td><td>0        </td><td>1        </td></tr>\n",
       "\t<tr><th scope=row>7</th><td>GSM405207</td><td>1        </td><td>OD       </td><td>3        </td><td>44       </td><td>1        </td><td>0        </td><td>1        </td><td> 97.4    </td><td>3        </td><td>1        </td><td>0        </td><td>1        </td></tr>\n",
       "\t<tr><th scope=row>8</th><td>GSM405208</td><td>0        </td><td>OD       </td><td>3        </td><td>51       </td><td>1        </td><td>1        </td><td>1        </td><td> 36.5    </td><td>1        </td><td>1        </td><td>1        </td><td>1        </td></tr>\n",
       "\t<tr><th scope=row>9</th><td>GSM405210</td><td>0        </td><td>OD       </td><td>3        </td><td>39       </td><td>1        </td><td>0        </td><td>1        </td><td>123.4    </td><td>4        </td><td>1        </td><td>1        </td><td>1        </td></tr>\n",
       "\t<tr><th scope=row>10</th><td>GSM405211</td><td>0        </td><td>OD       </td><td>3        </td><td>35       </td><td>1        </td><td>0        </td><td>1        </td><td> 22.0    </td><td>0        </td><td>1        </td><td>1        </td><td>0        </td></tr>\n",
       "\t<tr><th scope=row>12</th><td>GSM405213</td><td>0        </td><td>GBM      </td><td>4        </td><td>44       </td><td>1        </td><td>0        </td><td>1        </td><td> 16.1    </td><td>0        </td><td>0        </td><td>0        </td><td>0        </td></tr>\n",
       "\t<tr><th scope=row>13</th><td>GSM405214</td><td>0        </td><td>GBM      </td><td>4        </td><td>38       </td><td>1        </td><td>1        </td><td>1        </td><td> 18.0    </td><td>0        </td><td>0        </td><td>0        </td><td>0        </td></tr>\n",
       "\t<tr><th scope=row>14</th><td>GSM405215</td><td>0        </td><td>GBM      </td><td>4        </td><td>51       </td><td>1        </td><td>0        </td><td>1        </td><td> 27.6    </td><td>0        </td><td>0        </td><td>0        </td><td>1        </td></tr>\n",
       "\t<tr><th scope=row>15</th><td>GSM405216</td><td>0        </td><td>GBM      </td><td>4        </td><td>52       </td><td>1        </td><td>0        </td><td>1        </td><td> 39.4    </td><td>1        </td><td>0        </td><td>0        </td><td>1        </td></tr>\n",
       "\t<tr><th scope=row>16</th><td>GSM405217</td><td>0        </td><td>GBM      </td><td>4        </td><td>33       </td><td>1        </td><td>1        </td><td>0        </td><td> 81.2    </td><td>2        </td><td>0        </td><td>1        </td><td>1        </td></tr>\n",
       "\t<tr><th scope=row>17</th><td>GSM405218</td><td>0        </td><td>GBM      </td><td>4        </td><td>32       </td><td>1        </td><td>1        </td><td>1        </td><td>  7.7    </td><td>0        </td><td>0        </td><td>0        </td><td>0        </td></tr>\n",
       "\t<tr><th scope=row>28</th><td>GSM405229</td><td>1        </td><td>GBM      </td><td>4        </td><td>54       </td><td>1        </td><td>0        </td><td>1        </td><td>  7.9    </td><td>0        </td><td>0        </td><td>0        </td><td>0        </td></tr>\n",
       "\t<tr><th scope=row>29</th><td>GSM405230</td><td>1        </td><td>GBM      </td><td>4        </td><td>63       </td><td>1        </td><td>0        </td><td>1        </td><td>  5.6    </td><td>0        </td><td>0        </td><td>0        </td><td>0        </td></tr>\n",
       "\t<tr><th scope=row>31</th><td>GSM405232</td><td>0        </td><td>GBM      </td><td>4        </td><td>36       </td><td>1        </td><td>0        </td><td>1        </td><td> 11.8    </td><td>0        </td><td>0        </td><td>1        </td><td>0        </td></tr>\n",
       "\t<tr><th scope=row>39</th><td>GSM405240</td><td>0        </td><td>GBM      </td><td>4        </td><td>33       </td><td>1        </td><td>1        </td><td>0        </td><td> 79.4    </td><td>2        </td><td>0        </td><td>1        </td><td>1        </td></tr>\n",
       "\t<tr><th scope=row>43</th><td>GSM405244</td><td>0        </td><td>GBM      </td><td>4        </td><td>30       </td><td>1        </td><td>0        </td><td>1        </td><td> 24.6    </td><td>0        </td><td>0        </td><td>1        </td><td>1        </td></tr>\n",
       "\t<tr><th scope=row>44</th><td>GSM405245</td><td>0        </td><td>GBM      </td><td>4        </td><td>38       </td><td>1        </td><td>0        </td><td>1        </td><td> 16.8    </td><td>0        </td><td>0        </td><td>0        </td><td>0        </td></tr>\n",
       "\t<tr><th scope=row>45</th><td>GSM405246</td><td>0        </td><td>GBM      </td><td>4        </td><td>33       </td><td>1        </td><td>0        </td><td>1        </td><td> 75.7    </td><td>2        </td><td>1        </td><td>1        </td><td>1        </td></tr>\n",
       "\t<tr><th scope=row>46</th><td>GSM405247</td><td>0        </td><td>GBM      </td><td>4        </td><td>39       </td><td>1        </td><td>1        </td><td>1        </td><td> 19.1    </td><td>0        </td><td>0        </td><td>0        </td><td>0        </td></tr>\n",
       "\t<tr><th scope=row>47</th><td>GSM405248</td><td>0        </td><td>GBM      </td><td>4        </td><td>55       </td><td>1        </td><td>0        </td><td>1        </td><td> 10.1    </td><td>0        </td><td>0        </td><td>1        </td><td>0        </td></tr>\n",
       "\t<tr><th scope=row>52</th><td>GSM405253</td><td>0        </td><td>GBM      </td><td>4        </td><td>35       </td><td>1        </td><td>0        </td><td>0        </td><td>150.7    </td><td>5        </td><td>0        </td><td>0        </td><td>1        </td></tr>\n",
       "\t<tr><th scope=row>53</th><td>GSM405254</td><td>0        </td><td>GBM      </td><td>4        </td><td>41       </td><td>1        </td><td>0        </td><td>1        </td><td>  7.1    </td><td>0        </td><td>0        </td><td>0        </td><td>0        </td></tr>\n",
       "\t<tr><th scope=row>54</th><td>GSM405255</td><td>0        </td><td>GBM      </td><td>4        </td><td>48       </td><td>1        </td><td>0        </td><td>1        </td><td> 13.0    </td><td>0        </td><td>0        </td><td>0        </td><td>0        </td></tr>\n",
       "\t<tr><th scope=row>55</th><td>GSM405256</td><td>0        </td><td>A        </td><td>2        </td><td>38       </td><td>1        </td><td>0        </td><td>1        </td><td> 57.5    </td><td>1        </td><td>0        </td><td>1        </td><td>1        </td></tr>\n",
       "\t<tr><th scope=row>56</th><td>GSM405257</td><td>0        </td><td>OD       </td><td>3        </td><td>46       </td><td>1        </td><td>1        </td><td>0        </td><td>130.3    </td><td>4        </td><td>1        </td><td>1        </td><td>1        </td></tr>\n",
       "\t<tr><th scope=row>58</th><td>GSM405259</td><td>0        </td><td>A        </td><td>3        </td><td>64       </td><td>1        </td><td>0        </td><td>1        </td><td>  4.9    </td><td>0        </td><td>0        </td><td>0        </td><td>0        </td></tr>\n",
       "\t<tr><th scope=row>⋮</th><td>⋮</td><td>⋮</td><td>⋮</td><td>⋮</td><td>⋮</td><td>⋮</td><td>⋮</td><td>⋮</td><td>⋮</td><td>⋮</td><td>⋮</td><td>⋮</td><td>⋮</td></tr>\n",
       "\t<tr><th scope=row>373</th><td>GSM1503403</td><td>0         </td><td>OA        </td><td>3         </td><td>38        </td><td>0         </td><td>1         </td><td>1         </td><td> 61.2     </td><td>2         </td><td>1         </td><td>1         </td><td>1         </td></tr>\n",
       "\t<tr><th scope=row>374</th><td>GSM1503404</td><td>1         </td><td>OA        </td><td>3         </td><td>49        </td><td>0         </td><td>1         </td><td>1         </td><td> 52.8     </td><td>1         </td><td>1         </td><td>1         </td><td>1         </td></tr>\n",
       "\t<tr><th scope=row>375</th><td>GSM1503405</td><td>1         </td><td>OA        </td><td>3         </td><td>68        </td><td>0         </td><td>0         </td><td>0         </td><td> 52.8     </td><td>1         </td><td>0         </td><td>1         </td><td>1         </td></tr>\n",
       "\t<tr><th scope=row>376</th><td>GSM1503406</td><td>0         </td><td>OA        </td><td>3         </td><td>68        </td><td>1         </td><td>0         </td><td>0         </td><td> 27.6     </td><td>0         </td><td>1         </td><td>1         </td><td>1         </td></tr>\n",
       "\t<tr><th scope=row>377</th><td>GSM1503407</td><td>1         </td><td>OA        </td><td>3         </td><td>41        </td><td>1         </td><td>1         </td><td>1         </td><td> 14.4     </td><td>0         </td><td>0         </td><td>1         </td><td>0         </td></tr>\n",
       "\t<tr><th scope=row>378</th><td>GSM1503408</td><td>0         </td><td>OA        </td><td>3         </td><td>46        </td><td>1         </td><td>1         </td><td>1         </td><td> 76.8     </td><td>2         </td><td>1         </td><td>1         </td><td>1         </td></tr>\n",
       "\t<tr><th scope=row>379</th><td>GSM1503409</td><td>1         </td><td>OA        </td><td>3         </td><td>45        </td><td>1         </td><td>0         </td><td>1         </td><td> 70.8     </td><td>2         </td><td>1         </td><td>1         </td><td>1         </td></tr>\n",
       "\t<tr><th scope=row>380</th><td>GSM1503410</td><td>0         </td><td>OA        </td><td>3         </td><td>27        </td><td>1         </td><td>1         </td><td>1         </td><td> 81.6     </td><td>2         </td><td>1         </td><td>1         </td><td>1         </td></tr>\n",
       "\t<tr><th scope=row>381</th><td>GSM1503411</td><td>0         </td><td>OA        </td><td>3         </td><td>60        </td><td>1         </td><td>1         </td><td>0         </td><td> 44.4     </td><td>1         </td><td>0         </td><td>1         </td><td>1         </td></tr>\n",
       "\t<tr><th scope=row>382</th><td>GSM1503412</td><td>0         </td><td>OA        </td><td>3         </td><td>34        </td><td>1         </td><td>1         </td><td>0         </td><td> 43.2     </td><td>1         </td><td>0         </td><td>1         </td><td>1         </td></tr>\n",
       "\t<tr><th scope=row>383</th><td>GSM1503413</td><td>0         </td><td>OA        </td><td>3         </td><td>54        </td><td>0         </td><td>0         </td><td>0         </td><td>  1.2     </td><td>0         </td><td>1         </td><td>1         </td><td>0         </td></tr>\n",
       "\t<tr><th scope=row>384</th><td>GSM1503414</td><td>0         </td><td>OA        </td><td>3         </td><td>51        </td><td>1         </td><td>1         </td><td>0         </td><td> 48.0     </td><td>1         </td><td>0         </td><td>1         </td><td>1         </td></tr>\n",
       "\t<tr><th scope=row>385</th><td>GSM1503415</td><td>1         </td><td>OA        </td><td>3         </td><td>51        </td><td>1         </td><td>0         </td><td>0         </td><td> 52.8     </td><td>1         </td><td>1         </td><td>1         </td><td>1         </td></tr>\n",
       "\t<tr><th scope=row>386</th><td>GSM1503416</td><td>1         </td><td>OA        </td><td>3         </td><td>63        </td><td>1         </td><td>0         </td><td>1         </td><td> 55.2     </td><td>1         </td><td>1         </td><td>1         </td><td>1         </td></tr>\n",
       "\t<tr><th scope=row>387</th><td>GSM1503417</td><td>0         </td><td>OD        </td><td>2         </td><td>36        </td><td>0         </td><td>0         </td><td>1         </td><td>109.2     </td><td>3         </td><td>1         </td><td>1         </td><td>1         </td></tr>\n",
       "\t<tr><th scope=row>388</th><td>GSM1503418</td><td>1         </td><td>OD        </td><td>2         </td><td>39        </td><td>0         </td><td>0         </td><td>1         </td><td> 69.6     </td><td>2         </td><td>1         </td><td>1         </td><td>1         </td></tr>\n",
       "\t<tr><th scope=row>389</th><td>GSM1503419</td><td>0         </td><td>OD        </td><td>2         </td><td>49        </td><td>0         </td><td>0         </td><td>1         </td><td> 37.2     </td><td>1         </td><td>1         </td><td>1         </td><td>1         </td></tr>\n",
       "\t<tr><th scope=row>390</th><td>GSM1503383</td><td>1         </td><td>OD        </td><td>3         </td><td>47        </td><td>1         </td><td>1         </td><td>1         </td><td> 88.8     </td><td>2         </td><td>1         </td><td>1         </td><td>1         </td></tr>\n",
       "\t<tr><th scope=row>391</th><td>GSM1503421</td><td>0         </td><td>OA        </td><td>2         </td><td>24        </td><td>0         </td><td>0         </td><td>1         </td><td> 79.2     </td><td>2         </td><td>0         </td><td>1         </td><td>1         </td></tr>\n",
       "\t<tr><th scope=row>392</th><td>GSM1503422</td><td>0         </td><td>OA        </td><td>2         </td><td>59        </td><td>0         </td><td>0         </td><td>1         </td><td> 52.8     </td><td>1         </td><td>0         </td><td>1         </td><td>1         </td></tr>\n",
       "\t<tr><th scope=row>393</th><td>GSM1503423</td><td>0         </td><td>OA        </td><td>2         </td><td>33        </td><td>0         </td><td>0         </td><td>1         </td><td> 12.0     </td><td>0         </td><td>1         </td><td>1         </td><td>0         </td></tr>\n",
       "\t<tr><th scope=row>394</th><td>GSM1503424</td><td>0         </td><td>OA        </td><td>2         </td><td>59        </td><td>0         </td><td>0         </td><td>1         </td><td> 90.0     </td><td>3         </td><td>1         </td><td>1         </td><td>1         </td></tr>\n",
       "\t<tr><th scope=row>395</th><td>GSM1503425</td><td>1         </td><td>OA        </td><td>2         </td><td>40        </td><td>0         </td><td>0         </td><td>1         </td><td> 46.8     </td><td>1         </td><td>1         </td><td>1         </td><td>1         </td></tr>\n",
       "\t<tr><th scope=row>396</th><td>GSM1503426</td><td>1         </td><td>OA        </td><td>2         </td><td>39        </td><td>0         </td><td>1         </td><td>1         </td><td> 97.2     </td><td>3         </td><td>0         </td><td>0         </td><td>1         </td></tr>\n",
       "\t<tr><th scope=row>397</th><td>GSM1503427</td><td>1         </td><td>OA        </td><td>2         </td><td>44        </td><td>0         </td><td>0         </td><td>0         </td><td> 73.2     </td><td>2         </td><td>0         </td><td>1         </td><td>1         </td></tr>\n",
       "\t<tr><th scope=row>398</th><td>GSM1503428</td><td>0         </td><td>OA        </td><td>2         </td><td>56        </td><td>0         </td><td>0         </td><td>1         </td><td> 90.0     </td><td>3         </td><td>0         </td><td>1         </td><td>1         </td></tr>\n",
       "\t<tr><th scope=row>399</th><td>GSM1503429</td><td>1         </td><td>OA        </td><td>2         </td><td>43        </td><td>0         </td><td>0         </td><td>1         </td><td> 61.2     </td><td>2         </td><td>1         </td><td>1         </td><td>1         </td></tr>\n",
       "\t<tr><th scope=row>400</th><td>GSM1503430</td><td>0         </td><td>OA        </td><td>2         </td><td>30        </td><td>0         </td><td>0         </td><td>0         </td><td> 38.4     </td><td>1         </td><td>0         </td><td>1         </td><td>1         </td></tr>\n",
       "\t<tr><th scope=row>401</th><td>GSM1503431</td><td>1         </td><td>OA        </td><td>2         </td><td>30        </td><td>0         </td><td>0         </td><td>1         </td><td> 85.2     </td><td>2         </td><td>0         </td><td>1         </td><td>1         </td></tr>\n",
       "\t<tr><th scope=row>402</th><td>GSM1503432</td><td>0         </td><td>OA        </td><td>2         </td><td>41        </td><td>0         </td><td>0         </td><td>1         </td><td> 74.4     </td><td>2         </td><td>1         </td><td>1         </td><td>1         </td></tr>\n",
       "</tbody>\n",
       "</table>\n"
      ],
      "text/latex": [
       "\\begin{tabular}{r|lllllllllllll}\n",
       "  & Sample\\_geo\\_accession & gender & dagnoss & grade & age & RT & CT & event & survival & survivalType & codel & IDH1 & HDType\\\\\n",
       "\\hline\n",
       "\t1 & GSM405201 & 1         & OD        & 3         & 45        & 1         & 0         & 1         & 117.8     & 3         & 1         & 1         & 1        \\\\\n",
       "\t2 & GSM405202 & 0         & OD        & 3         & 29        & 1         & 0         & 1         & 140.0     & 4         & 1         & 1         & 1        \\\\\n",
       "\t3 & GSM405203 & 0         & OD        & 3         & 39        & 1         & 0         & 1         & 107.0     & 3         & 1         & 0         & 1        \\\\\n",
       "\t5 & GSM405205 & 0         & OD        & 3         & 48        & 1         & 1         & 1         &  38.9     & 1         & 1         & 1         & 1        \\\\\n",
       "\t6 & GSM405206 & 0         & OD        & 3         & 32        & 1         & 0         & 1         &  81.7     & 2         & 1         & 0         & 1        \\\\\n",
       "\t7 & GSM405207 & 1         & OD        & 3         & 44        & 1         & 0         & 1         &  97.4     & 3         & 1         & 0         & 1        \\\\\n",
       "\t8 & GSM405208 & 0         & OD        & 3         & 51        & 1         & 1         & 1         &  36.5     & 1         & 1         & 1         & 1        \\\\\n",
       "\t9 & GSM405210 & 0         & OD        & 3         & 39        & 1         & 0         & 1         & 123.4     & 4         & 1         & 1         & 1        \\\\\n",
       "\t10 & GSM405211 & 0         & OD        & 3         & 35        & 1         & 0         & 1         &  22.0     & 0         & 1         & 1         & 0        \\\\\n",
       "\t12 & GSM405213 & 0         & GBM       & 4         & 44        & 1         & 0         & 1         &  16.1     & 0         & 0         & 0         & 0        \\\\\n",
       "\t13 & GSM405214 & 0         & GBM       & 4         & 38        & 1         & 1         & 1         &  18.0     & 0         & 0         & 0         & 0        \\\\\n",
       "\t14 & GSM405215 & 0         & GBM       & 4         & 51        & 1         & 0         & 1         &  27.6     & 0         & 0         & 0         & 1        \\\\\n",
       "\t15 & GSM405216 & 0         & GBM       & 4         & 52        & 1         & 0         & 1         &  39.4     & 1         & 0         & 0         & 1        \\\\\n",
       "\t16 & GSM405217 & 0         & GBM       & 4         & 33        & 1         & 1         & 0         &  81.2     & 2         & 0         & 1         & 1        \\\\\n",
       "\t17 & GSM405218 & 0         & GBM       & 4         & 32        & 1         & 1         & 1         &   7.7     & 0         & 0         & 0         & 0        \\\\\n",
       "\t28 & GSM405229 & 1         & GBM       & 4         & 54        & 1         & 0         & 1         &   7.9     & 0         & 0         & 0         & 0        \\\\\n",
       "\t29 & GSM405230 & 1         & GBM       & 4         & 63        & 1         & 0         & 1         &   5.6     & 0         & 0         & 0         & 0        \\\\\n",
       "\t31 & GSM405232 & 0         & GBM       & 4         & 36        & 1         & 0         & 1         &  11.8     & 0         & 0         & 1         & 0        \\\\\n",
       "\t39 & GSM405240 & 0         & GBM       & 4         & 33        & 1         & 1         & 0         &  79.4     & 2         & 0         & 1         & 1        \\\\\n",
       "\t43 & GSM405244 & 0         & GBM       & 4         & 30        & 1         & 0         & 1         &  24.6     & 0         & 0         & 1         & 1        \\\\\n",
       "\t44 & GSM405245 & 0         & GBM       & 4         & 38        & 1         & 0         & 1         &  16.8     & 0         & 0         & 0         & 0        \\\\\n",
       "\t45 & GSM405246 & 0         & GBM       & 4         & 33        & 1         & 0         & 1         &  75.7     & 2         & 1         & 1         & 1        \\\\\n",
       "\t46 & GSM405247 & 0         & GBM       & 4         & 39        & 1         & 1         & 1         &  19.1     & 0         & 0         & 0         & 0        \\\\\n",
       "\t47 & GSM405248 & 0         & GBM       & 4         & 55        & 1         & 0         & 1         &  10.1     & 0         & 0         & 1         & 0        \\\\\n",
       "\t52 & GSM405253 & 0         & GBM       & 4         & 35        & 1         & 0         & 0         & 150.7     & 5         & 0         & 0         & 1        \\\\\n",
       "\t53 & GSM405254 & 0         & GBM       & 4         & 41        & 1         & 0         & 1         &   7.1     & 0         & 0         & 0         & 0        \\\\\n",
       "\t54 & GSM405255 & 0         & GBM       & 4         & 48        & 1         & 0         & 1         &  13.0     & 0         & 0         & 0         & 0        \\\\\n",
       "\t55 & GSM405256 & 0         & A         & 2         & 38        & 1         & 0         & 1         &  57.5     & 1         & 0         & 1         & 1        \\\\\n",
       "\t56 & GSM405257 & 0         & OD        & 3         & 46        & 1         & 1         & 0         & 130.3     & 4         & 1         & 1         & 1        \\\\\n",
       "\t58 & GSM405259 & 0         & A         & 3         & 64        & 1         & 0         & 1         &   4.9     & 0         & 0         & 0         & 0        \\\\\n",
       "\t⋮ & ⋮ & ⋮ & ⋮ & ⋮ & ⋮ & ⋮ & ⋮ & ⋮ & ⋮ & ⋮ & ⋮ & ⋮ & ⋮\\\\\n",
       "\t373 & GSM1503403 & 0          & OA         & 3          & 38         & 0          & 1          & 1          &  61.2      & 2          & 1          & 1          & 1         \\\\\n",
       "\t374 & GSM1503404 & 1          & OA         & 3          & 49         & 0          & 1          & 1          &  52.8      & 1          & 1          & 1          & 1         \\\\\n",
       "\t375 & GSM1503405 & 1          & OA         & 3          & 68         & 0          & 0          & 0          &  52.8      & 1          & 0          & 1          & 1         \\\\\n",
       "\t376 & GSM1503406 & 0          & OA         & 3          & 68         & 1          & 0          & 0          &  27.6      & 0          & 1          & 1          & 1         \\\\\n",
       "\t377 & GSM1503407 & 1          & OA         & 3          & 41         & 1          & 1          & 1          &  14.4      & 0          & 0          & 1          & 0         \\\\\n",
       "\t378 & GSM1503408 & 0          & OA         & 3          & 46         & 1          & 1          & 1          &  76.8      & 2          & 1          & 1          & 1         \\\\\n",
       "\t379 & GSM1503409 & 1          & OA         & 3          & 45         & 1          & 0          & 1          &  70.8      & 2          & 1          & 1          & 1         \\\\\n",
       "\t380 & GSM1503410 & 0          & OA         & 3          & 27         & 1          & 1          & 1          &  81.6      & 2          & 1          & 1          & 1         \\\\\n",
       "\t381 & GSM1503411 & 0          & OA         & 3          & 60         & 1          & 1          & 0          &  44.4      & 1          & 0          & 1          & 1         \\\\\n",
       "\t382 & GSM1503412 & 0          & OA         & 3          & 34         & 1          & 1          & 0          &  43.2      & 1          & 0          & 1          & 1         \\\\\n",
       "\t383 & GSM1503413 & 0          & OA         & 3          & 54         & 0          & 0          & 0          &   1.2      & 0          & 1          & 1          & 0         \\\\\n",
       "\t384 & GSM1503414 & 0          & OA         & 3          & 51         & 1          & 1          & 0          &  48.0      & 1          & 0          & 1          & 1         \\\\\n",
       "\t385 & GSM1503415 & 1          & OA         & 3          & 51         & 1          & 0          & 0          &  52.8      & 1          & 1          & 1          & 1         \\\\\n",
       "\t386 & GSM1503416 & 1          & OA         & 3          & 63         & 1          & 0          & 1          &  55.2      & 1          & 1          & 1          & 1         \\\\\n",
       "\t387 & GSM1503417 & 0          & OD         & 2          & 36         & 0          & 0          & 1          & 109.2      & 3          & 1          & 1          & 1         \\\\\n",
       "\t388 & GSM1503418 & 1          & OD         & 2          & 39         & 0          & 0          & 1          &  69.6      & 2          & 1          & 1          & 1         \\\\\n",
       "\t389 & GSM1503419 & 0          & OD         & 2          & 49         & 0          & 0          & 1          &  37.2      & 1          & 1          & 1          & 1         \\\\\n",
       "\t390 & GSM1503383 & 1          & OD         & 3          & 47         & 1          & 1          & 1          &  88.8      & 2          & 1          & 1          & 1         \\\\\n",
       "\t391 & GSM1503421 & 0          & OA         & 2          & 24         & 0          & 0          & 1          &  79.2      & 2          & 0          & 1          & 1         \\\\\n",
       "\t392 & GSM1503422 & 0          & OA         & 2          & 59         & 0          & 0          & 1          &  52.8      & 1          & 0          & 1          & 1         \\\\\n",
       "\t393 & GSM1503423 & 0          & OA         & 2          & 33         & 0          & 0          & 1          &  12.0      & 0          & 1          & 1          & 0         \\\\\n",
       "\t394 & GSM1503424 & 0          & OA         & 2          & 59         & 0          & 0          & 1          &  90.0      & 3          & 1          & 1          & 1         \\\\\n",
       "\t395 & GSM1503425 & 1          & OA         & 2          & 40         & 0          & 0          & 1          &  46.8      & 1          & 1          & 1          & 1         \\\\\n",
       "\t396 & GSM1503426 & 1          & OA         & 2          & 39         & 0          & 1          & 1          &  97.2      & 3          & 0          & 0          & 1         \\\\\n",
       "\t397 & GSM1503427 & 1          & OA         & 2          & 44         & 0          & 0          & 0          &  73.2      & 2          & 0          & 1          & 1         \\\\\n",
       "\t398 & GSM1503428 & 0          & OA         & 2          & 56         & 0          & 0          & 1          &  90.0      & 3          & 0          & 1          & 1         \\\\\n",
       "\t399 & GSM1503429 & 1          & OA         & 2          & 43         & 0          & 0          & 1          &  61.2      & 2          & 1          & 1          & 1         \\\\\n",
       "\t400 & GSM1503430 & 0          & OA         & 2          & 30         & 0          & 0          & 0          &  38.4      & 1          & 0          & 1          & 1         \\\\\n",
       "\t401 & GSM1503431 & 1          & OA         & 2          & 30         & 0          & 0          & 1          &  85.2      & 2          & 0          & 1          & 1         \\\\\n",
       "\t402 & GSM1503432 & 0          & OA         & 2          & 41         & 0          & 0          & 1          &  74.4      & 2          & 1          & 1          & 1         \\\\\n",
       "\\end{tabular}\n"
      ],
      "text/markdown": [
       "\n",
       "| <!--/--> | Sample_geo_accession | gender | dagnoss | grade | age | RT | CT | event | survival | survivalType | codel | IDH1 | HDType | \n",
       "|---|---|---|---|---|---|---|---|---|---|---|---|---|---|---|---|---|---|---|---|---|---|---|---|---|---|---|---|---|---|---|---|---|---|---|---|---|---|---|---|---|---|---|---|---|---|---|---|---|---|---|---|---|---|---|---|---|---|---|---|---|\n",
       "| 1 | GSM405201 | 1         | OD        | 3         | 45        | 1         | 0         | 1         | 117.8     | 3         | 1         | 1         | 1         | \n",
       "| 2 | GSM405202 | 0         | OD        | 3         | 29        | 1         | 0         | 1         | 140.0     | 4         | 1         | 1         | 1         | \n",
       "| 3 | GSM405203 | 0         | OD        | 3         | 39        | 1         | 0         | 1         | 107.0     | 3         | 1         | 0         | 1         | \n",
       "| 5 | GSM405205 | 0         | OD        | 3         | 48        | 1         | 1         | 1         |  38.9     | 1         | 1         | 1         | 1         | \n",
       "| 6 | GSM405206 | 0         | OD        | 3         | 32        | 1         | 0         | 1         |  81.7     | 2         | 1         | 0         | 1         | \n",
       "| 7 | GSM405207 | 1         | OD        | 3         | 44        | 1         | 0         | 1         |  97.4     | 3         | 1         | 0         | 1         | \n",
       "| 8 | GSM405208 | 0         | OD        | 3         | 51        | 1         | 1         | 1         |  36.5     | 1         | 1         | 1         | 1         | \n",
       "| 9 | GSM405210 | 0         | OD        | 3         | 39        | 1         | 0         | 1         | 123.4     | 4         | 1         | 1         | 1         | \n",
       "| 10 | GSM405211 | 0         | OD        | 3         | 35        | 1         | 0         | 1         |  22.0     | 0         | 1         | 1         | 0         | \n",
       "| 12 | GSM405213 | 0         | GBM       | 4         | 44        | 1         | 0         | 1         |  16.1     | 0         | 0         | 0         | 0         | \n",
       "| 13 | GSM405214 | 0         | GBM       | 4         | 38        | 1         | 1         | 1         |  18.0     | 0         | 0         | 0         | 0         | \n",
       "| 14 | GSM405215 | 0         | GBM       | 4         | 51        | 1         | 0         | 1         |  27.6     | 0         | 0         | 0         | 1         | \n",
       "| 15 | GSM405216 | 0         | GBM       | 4         | 52        | 1         | 0         | 1         |  39.4     | 1         | 0         | 0         | 1         | \n",
       "| 16 | GSM405217 | 0         | GBM       | 4         | 33        | 1         | 1         | 0         |  81.2     | 2         | 0         | 1         | 1         | \n",
       "| 17 | GSM405218 | 0         | GBM       | 4         | 32        | 1         | 1         | 1         |   7.7     | 0         | 0         | 0         | 0         | \n",
       "| 28 | GSM405229 | 1         | GBM       | 4         | 54        | 1         | 0         | 1         |   7.9     | 0         | 0         | 0         | 0         | \n",
       "| 29 | GSM405230 | 1         | GBM       | 4         | 63        | 1         | 0         | 1         |   5.6     | 0         | 0         | 0         | 0         | \n",
       "| 31 | GSM405232 | 0         | GBM       | 4         | 36        | 1         | 0         | 1         |  11.8     | 0         | 0         | 1         | 0         | \n",
       "| 39 | GSM405240 | 0         | GBM       | 4         | 33        | 1         | 1         | 0         |  79.4     | 2         | 0         | 1         | 1         | \n",
       "| 43 | GSM405244 | 0         | GBM       | 4         | 30        | 1         | 0         | 1         |  24.6     | 0         | 0         | 1         | 1         | \n",
       "| 44 | GSM405245 | 0         | GBM       | 4         | 38        | 1         | 0         | 1         |  16.8     | 0         | 0         | 0         | 0         | \n",
       "| 45 | GSM405246 | 0         | GBM       | 4         | 33        | 1         | 0         | 1         |  75.7     | 2         | 1         | 1         | 1         | \n",
       "| 46 | GSM405247 | 0         | GBM       | 4         | 39        | 1         | 1         | 1         |  19.1     | 0         | 0         | 0         | 0         | \n",
       "| 47 | GSM405248 | 0         | GBM       | 4         | 55        | 1         | 0         | 1         |  10.1     | 0         | 0         | 1         | 0         | \n",
       "| 52 | GSM405253 | 0         | GBM       | 4         | 35        | 1         | 0         | 0         | 150.7     | 5         | 0         | 0         | 1         | \n",
       "| 53 | GSM405254 | 0         | GBM       | 4         | 41        | 1         | 0         | 1         |   7.1     | 0         | 0         | 0         | 0         | \n",
       "| 54 | GSM405255 | 0         | GBM       | 4         | 48        | 1         | 0         | 1         |  13.0     | 0         | 0         | 0         | 0         | \n",
       "| 55 | GSM405256 | 0         | A         | 2         | 38        | 1         | 0         | 1         |  57.5     | 1         | 0         | 1         | 1         | \n",
       "| 56 | GSM405257 | 0         | OD        | 3         | 46        | 1         | 1         | 0         | 130.3     | 4         | 1         | 1         | 1         | \n",
       "| 58 | GSM405259 | 0         | A         | 3         | 64        | 1         | 0         | 1         |   4.9     | 0         | 0         | 0         | 0         | \n",
       "| ⋮ | ⋮ | ⋮ | ⋮ | ⋮ | ⋮ | ⋮ | ⋮ | ⋮ | ⋮ | ⋮ | ⋮ | ⋮ | ⋮ | \n",
       "| 373 | GSM1503403 | 0          | OA         | 3          | 38         | 0          | 1          | 1          |  61.2      | 2          | 1          | 1          | 1          | \n",
       "| 374 | GSM1503404 | 1          | OA         | 3          | 49         | 0          | 1          | 1          |  52.8      | 1          | 1          | 1          | 1          | \n",
       "| 375 | GSM1503405 | 1          | OA         | 3          | 68         | 0          | 0          | 0          |  52.8      | 1          | 0          | 1          | 1          | \n",
       "| 376 | GSM1503406 | 0          | OA         | 3          | 68         | 1          | 0          | 0          |  27.6      | 0          | 1          | 1          | 1          | \n",
       "| 377 | GSM1503407 | 1          | OA         | 3          | 41         | 1          | 1          | 1          |  14.4      | 0          | 0          | 1          | 0          | \n",
       "| 378 | GSM1503408 | 0          | OA         | 3          | 46         | 1          | 1          | 1          |  76.8      | 2          | 1          | 1          | 1          | \n",
       "| 379 | GSM1503409 | 1          | OA         | 3          | 45         | 1          | 0          | 1          |  70.8      | 2          | 1          | 1          | 1          | \n",
       "| 380 | GSM1503410 | 0          | OA         | 3          | 27         | 1          | 1          | 1          |  81.6      | 2          | 1          | 1          | 1          | \n",
       "| 381 | GSM1503411 | 0          | OA         | 3          | 60         | 1          | 1          | 0          |  44.4      | 1          | 0          | 1          | 1          | \n",
       "| 382 | GSM1503412 | 0          | OA         | 3          | 34         | 1          | 1          | 0          |  43.2      | 1          | 0          | 1          | 1          | \n",
       "| 383 | GSM1503413 | 0          | OA         | 3          | 54         | 0          | 0          | 0          |   1.2      | 0          | 1          | 1          | 0          | \n",
       "| 384 | GSM1503414 | 0          | OA         | 3          | 51         | 1          | 1          | 0          |  48.0      | 1          | 0          | 1          | 1          | \n",
       "| 385 | GSM1503415 | 1          | OA         | 3          | 51         | 1          | 0          | 0          |  52.8      | 1          | 1          | 1          | 1          | \n",
       "| 386 | GSM1503416 | 1          | OA         | 3          | 63         | 1          | 0          | 1          |  55.2      | 1          | 1          | 1          | 1          | \n",
       "| 387 | GSM1503417 | 0          | OD         | 2          | 36         | 0          | 0          | 1          | 109.2      | 3          | 1          | 1          | 1          | \n",
       "| 388 | GSM1503418 | 1          | OD         | 2          | 39         | 0          | 0          | 1          |  69.6      | 2          | 1          | 1          | 1          | \n",
       "| 389 | GSM1503419 | 0          | OD         | 2          | 49         | 0          | 0          | 1          |  37.2      | 1          | 1          | 1          | 1          | \n",
       "| 390 | GSM1503383 | 1          | OD         | 3          | 47         | 1          | 1          | 1          |  88.8      | 2          | 1          | 1          | 1          | \n",
       "| 391 | GSM1503421 | 0          | OA         | 2          | 24         | 0          | 0          | 1          |  79.2      | 2          | 0          | 1          | 1          | \n",
       "| 392 | GSM1503422 | 0          | OA         | 2          | 59         | 0          | 0          | 1          |  52.8      | 1          | 0          | 1          | 1          | \n",
       "| 393 | GSM1503423 | 0          | OA         | 2          | 33         | 0          | 0          | 1          |  12.0      | 0          | 1          | 1          | 0          | \n",
       "| 394 | GSM1503424 | 0          | OA         | 2          | 59         | 0          | 0          | 1          |  90.0      | 3          | 1          | 1          | 1          | \n",
       "| 395 | GSM1503425 | 1          | OA         | 2          | 40         | 0          | 0          | 1          |  46.8      | 1          | 1          | 1          | 1          | \n",
       "| 396 | GSM1503426 | 1          | OA         | 2          | 39         | 0          | 1          | 1          |  97.2      | 3          | 0          | 0          | 1          | \n",
       "| 397 | GSM1503427 | 1          | OA         | 2          | 44         | 0          | 0          | 0          |  73.2      | 2          | 0          | 1          | 1          | \n",
       "| 398 | GSM1503428 | 0          | OA         | 2          | 56         | 0          | 0          | 1          |  90.0      | 3          | 0          | 1          | 1          | \n",
       "| 399 | GSM1503429 | 1          | OA         | 2          | 43         | 0          | 0          | 1          |  61.2      | 2          | 1          | 1          | 1          | \n",
       "| 400 | GSM1503430 | 0          | OA         | 2          | 30         | 0          | 0          | 0          |  38.4      | 1          | 0          | 1          | 1          | \n",
       "| 401 | GSM1503431 | 1          | OA         | 2          | 30         | 0          | 0          | 1          |  85.2      | 2          | 0          | 1          | 1          | \n",
       "| 402 | GSM1503432 | 0          | OA         | 2          | 41         | 0          | 0          | 1          |  74.4      | 2          | 1          | 1          | 1          | \n",
       "\n",
       "\n"
      ],
      "text/plain": [
       "    Sample_geo_accession gender dagnoss grade age RT CT event survival\n",
       "1   GSM405201            1      OD      3     45  1  0  1     117.8   \n",
       "2   GSM405202            0      OD      3     29  1  0  1     140.0   \n",
       "3   GSM405203            0      OD      3     39  1  0  1     107.0   \n",
       "5   GSM405205            0      OD      3     48  1  1  1      38.9   \n",
       "6   GSM405206            0      OD      3     32  1  0  1      81.7   \n",
       "7   GSM405207            1      OD      3     44  1  0  1      97.4   \n",
       "8   GSM405208            0      OD      3     51  1  1  1      36.5   \n",
       "9   GSM405210            0      OD      3     39  1  0  1     123.4   \n",
       "10  GSM405211            0      OD      3     35  1  0  1      22.0   \n",
       "12  GSM405213            0      GBM     4     44  1  0  1      16.1   \n",
       "13  GSM405214            0      GBM     4     38  1  1  1      18.0   \n",
       "14  GSM405215            0      GBM     4     51  1  0  1      27.6   \n",
       "15  GSM405216            0      GBM     4     52  1  0  1      39.4   \n",
       "16  GSM405217            0      GBM     4     33  1  1  0      81.2   \n",
       "17  GSM405218            0      GBM     4     32  1  1  1       7.7   \n",
       "28  GSM405229            1      GBM     4     54  1  0  1       7.9   \n",
       "29  GSM405230            1      GBM     4     63  1  0  1       5.6   \n",
       "31  GSM405232            0      GBM     4     36  1  0  1      11.8   \n",
       "39  GSM405240            0      GBM     4     33  1  1  0      79.4   \n",
       "43  GSM405244            0      GBM     4     30  1  0  1      24.6   \n",
       "44  GSM405245            0      GBM     4     38  1  0  1      16.8   \n",
       "45  GSM405246            0      GBM     4     33  1  0  1      75.7   \n",
       "46  GSM405247            0      GBM     4     39  1  1  1      19.1   \n",
       "47  GSM405248            0      GBM     4     55  1  0  1      10.1   \n",
       "52  GSM405253            0      GBM     4     35  1  0  0     150.7   \n",
       "53  GSM405254            0      GBM     4     41  1  0  1       7.1   \n",
       "54  GSM405255            0      GBM     4     48  1  0  1      13.0   \n",
       "55  GSM405256            0      A       2     38  1  0  1      57.5   \n",
       "56  GSM405257            0      OD      3     46  1  1  0     130.3   \n",
       "58  GSM405259            0      A       3     64  1  0  1       4.9   \n",
       "⋮   ⋮                    ⋮      ⋮       ⋮     ⋮   ⋮  ⋮  ⋮     ⋮       \n",
       "373 GSM1503403           0      OA      3     38  0  1  1      61.2   \n",
       "374 GSM1503404           1      OA      3     49  0  1  1      52.8   \n",
       "375 GSM1503405           1      OA      3     68  0  0  0      52.8   \n",
       "376 GSM1503406           0      OA      3     68  1  0  0      27.6   \n",
       "377 GSM1503407           1      OA      3     41  1  1  1      14.4   \n",
       "378 GSM1503408           0      OA      3     46  1  1  1      76.8   \n",
       "379 GSM1503409           1      OA      3     45  1  0  1      70.8   \n",
       "380 GSM1503410           0      OA      3     27  1  1  1      81.6   \n",
       "381 GSM1503411           0      OA      3     60  1  1  0      44.4   \n",
       "382 GSM1503412           0      OA      3     34  1  1  0      43.2   \n",
       "383 GSM1503413           0      OA      3     54  0  0  0       1.2   \n",
       "384 GSM1503414           0      OA      3     51  1  1  0      48.0   \n",
       "385 GSM1503415           1      OA      3     51  1  0  0      52.8   \n",
       "386 GSM1503416           1      OA      3     63  1  0  1      55.2   \n",
       "387 GSM1503417           0      OD      2     36  0  0  1     109.2   \n",
       "388 GSM1503418           1      OD      2     39  0  0  1      69.6   \n",
       "389 GSM1503419           0      OD      2     49  0  0  1      37.2   \n",
       "390 GSM1503383           1      OD      3     47  1  1  1      88.8   \n",
       "391 GSM1503421           0      OA      2     24  0  0  1      79.2   \n",
       "392 GSM1503422           0      OA      2     59  0  0  1      52.8   \n",
       "393 GSM1503423           0      OA      2     33  0  0  1      12.0   \n",
       "394 GSM1503424           0      OA      2     59  0  0  1      90.0   \n",
       "395 GSM1503425           1      OA      2     40  0  0  1      46.8   \n",
       "396 GSM1503426           1      OA      2     39  0  1  1      97.2   \n",
       "397 GSM1503427           1      OA      2     44  0  0  0      73.2   \n",
       "398 GSM1503428           0      OA      2     56  0  0  1      90.0   \n",
       "399 GSM1503429           1      OA      2     43  0  0  1      61.2   \n",
       "400 GSM1503430           0      OA      2     30  0  0  0      38.4   \n",
       "401 GSM1503431           1      OA      2     30  0  0  1      85.2   \n",
       "402 GSM1503432           0      OA      2     41  0  0  1      74.4   \n",
       "    survivalType codel IDH1 HDType\n",
       "1   3            1     1    1     \n",
       "2   4            1     1    1     \n",
       "3   3            1     0    1     \n",
       "5   1            1     1    1     \n",
       "6   2            1     0    1     \n",
       "7   3            1     0    1     \n",
       "8   1            1     1    1     \n",
       "9   4            1     1    1     \n",
       "10  0            1     1    0     \n",
       "12  0            0     0    0     \n",
       "13  0            0     0    0     \n",
       "14  0            0     0    1     \n",
       "15  1            0     0    1     \n",
       "16  2            0     1    1     \n",
       "17  0            0     0    0     \n",
       "28  0            0     0    0     \n",
       "29  0            0     0    0     \n",
       "31  0            0     1    0     \n",
       "39  2            0     1    1     \n",
       "43  0            0     1    1     \n",
       "44  0            0     0    0     \n",
       "45  2            1     1    1     \n",
       "46  0            0     0    0     \n",
       "47  0            0     1    0     \n",
       "52  5            0     0    1     \n",
       "53  0            0     0    0     \n",
       "54  0            0     0    0     \n",
       "55  1            0     1    1     \n",
       "56  4            1     1    1     \n",
       "58  0            0     0    0     \n",
       "⋮   ⋮            ⋮     ⋮    ⋮     \n",
       "373 2            1     1    1     \n",
       "374 1            1     1    1     \n",
       "375 1            0     1    1     \n",
       "376 0            1     1    1     \n",
       "377 0            0     1    0     \n",
       "378 2            1     1    1     \n",
       "379 2            1     1    1     \n",
       "380 2            1     1    1     \n",
       "381 1            0     1    1     \n",
       "382 1            0     1    1     \n",
       "383 0            1     1    0     \n",
       "384 1            0     1    1     \n",
       "385 1            1     1    1     \n",
       "386 1            1     1    1     \n",
       "387 3            1     1    1     \n",
       "388 2            1     1    1     \n",
       "389 1            1     1    1     \n",
       "390 2            1     1    1     \n",
       "391 2            0     1    1     \n",
       "392 1            0     1    1     \n",
       "393 0            1     1    0     \n",
       "394 3            1     1    1     \n",
       "395 1            1     1    1     \n",
       "396 3            0     0    1     \n",
       "397 2            0     1    1     \n",
       "398 3            0     1    1     \n",
       "399 2            1     1    1     \n",
       "400 1            0     1    1     \n",
       "401 2            0     1    1     \n",
       "402 2            1     1    1     "
      ]
     },
     "metadata": {},
     "output_type": "display_data"
    }
   ],
   "source": [
    "data[which(data[,9]>24),ncol(data)]<-1;\n",
    "data<-as.matrix(data);\n",
    "dimnames(data)[2]<-\n",
    "list(c('Sample_geo_accession','gender','dagnoss','grade','age','RT','CT','event','survival','survivalType','codel','IDH1','HDType'));\n",
    "data<-as.data.frame(data);\n",
    "data"
   ]
  },
  {
   "cell_type": "code",
   "execution_count": 27,
   "metadata": {
    "collapsed": true
   },
   "outputs": [],
   "source": [
    "loc<-seq(1,length(data[,1]),by=10);\n",
    "Train<-data[loc,];\n",
    "Test<-data[-loc,];"
   ]
  },
  {
   "cell_type": "code",
   "execution_count": 28,
   "metadata": {
    "collapsed": false
   },
   "outputs": [
    {
     "name": "stdout",
     "output_type": "stream",
     "text": [
      "\n",
      "Call:\n",
      "svm(formula = HDType ~ survival, data = Train, kernel = \"linear\", \n",
      "    cost = 10, scale = FALSE)\n",
      "\n",
      "\n",
      "Parameters:\n",
      "   SVM-Type:  C-classification \n",
      " SVM-Kernel:  linear \n",
      "       cost:  10 \n",
      "      gamma:  0.006622517 \n",
      "\n",
      "Number of Support Vectors:  21\n",
      "\n"
     ]
    }
   ],
   "source": [
    "model <- svm(formula=HDType ~ survival, data = Train,kernel = \"linear\", cost = 10, scale = FALSE)\n",
    "print(model)"
   ]
  },
  {
   "cell_type": "code",
   "execution_count": 34,
   "metadata": {
    "collapsed": false
   },
   "outputs": [],
   "source": [
    "results <- predict(object = model, newdata = Test, type = \"class\")"
   ]
  },
  {
   "cell_type": "code",
   "execution_count": 30,
   "metadata": {
    "collapsed": false
   },
   "outputs": [
    {
     "data": {
      "text/plain": [
       "       \n",
       "results   0   1\n",
       "      0   6   0\n",
       "      1  58 141"
      ]
     },
     "metadata": {},
     "output_type": "display_data"
    }
   ],
   "source": [
    "res <- table(results, Test$HDType)\n",
    "res"
   ]
  },
  {
   "cell_type": "code",
   "execution_count": 32,
   "metadata": {
    "collapsed": false
   },
   "outputs": [
    {
     "data": {
      "text/html": [
       "0.717073170731707"
      ],
      "text/latex": [
       "0.717073170731707"
      ],
      "text/markdown": [
       "0.717073170731707"
      ],
      "text/plain": [
       "[1] 0.7170732"
      ]
     },
     "metadata": {},
     "output_type": "display_data"
    }
   ],
   "source": [
    "(141+6)/(141+6+58)"
   ]
  },
  {
   "cell_type": "code",
   "execution_count": null,
   "metadata": {
    "collapsed": true
   },
   "outputs": [],
   "source": []
  }
 ],
 "metadata": {
  "anaconda-cloud": {},
  "kernelspec": {
   "display_name": "R 3.3",
   "language": "R",
   "name": "ir33"
  },
  "language_info": {
   "codemirror_mode": "r",
   "file_extension": ".r",
   "mimetype": "text/x-r-source",
   "name": "R",
   "pygments_lexer": "r",
   "version": "3.3.1"
  }
 },
 "nbformat": 4,
 "nbformat_minor": 1
}
