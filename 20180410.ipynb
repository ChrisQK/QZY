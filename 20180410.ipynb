{
 "cells": [
  {
   "cell_type": "markdown",
   "metadata": {},
   "source": [
    "# 多元牛顿法"
   ]
  },
  {
   "cell_type": "code",
   "execution_count": 1,
   "metadata": {
    "scrolled": false
   },
   "outputs": [
    {
     "data": {
      "text/plain": [
       "Newton (generic function with 1 method)"
      ]
     },
     "execution_count": 1,
     "metadata": {},
     "output_type": "execute_result"
    }
   ],
   "source": [
    "function Newton(f,g,h,x0;\n",
    "        ϵ=eps(),maxstep=128)     ##原函数、一阶导数、二阶导数、初始点；\n",
    "    i = 0\n",
    "    if abs(norm(g(x0...))) <= ϵ\n",
    "        return x0,f(x0...)\n",
    "    else\n",
    "        while abs(norm(g(x0...))) > ϵ && i < maxstep\n",
    "            i += 1\n",
    "            println(\"step = \",i,\"\\t\",\"x = \",x0,\"\\t\",\"derivattive = \",g(x0...))\n",
    "            if det(h(x0...))==0                    ##判断黑塞矩阵是否可逆(行列式为0不可逆)；\n",
    "                println(\"ERROR : H Matrix irreversible!\",\"\\r\",\"Can't use Newton! \")\n",
    "            else\n",
    "                x0 = x0 - inv(h(x0...))*g(x0...)  \n",
    "            end\n",
    "        end\n",
    "        return x0,f(x0...),g(x0...)\n",
    "    end\n",
    "end\n",
    "\n",
    "#####未解决问题，如何使非正定变成正定"
   ]
  },
  {
   "cell_type": "code",
   "execution_count": 2,
   "metadata": {},
   "outputs": [
    {
     "name": "stdout",
     "output_type": "stream",
     "text": [
      "step = 1\tx = [0; 0]\tderivattive = [-2; 0]\n",
      "step = 2\tx = [1.0; 0.0]\tderivattive = [400.0; -200.0]\n",
      "step = 3\tx = [1.0; 1.0]\tderivattive = [-8.88178e-14; 4.44089e-14]\n"
     ]
    },
    {
     "data": {
      "text/plain": [
       "([1.0; 1.0], 0.0, [-0.0; 0.0])"
      ]
     },
     "execution_count": 2,
     "metadata": {},
     "output_type": "execute_result"
    }
   ],
   "source": [
    "Newton(\n",
    "    (x,y) -> (1-x)^2+100*(y-x^2)^2,\n",
    "    (x,y) -> [2*(1-x)*(-1)+200*(y - x^2)*(-2*x) 200*(y - x^2)]',\n",
    "    (x,y) -> [2-400*y+1200*x^2 -400*x;-400*x 200],\n",
    "    [0 0]')"
   ]
  },
  {
   "cell_type": "code",
   "execution_count": 3,
   "metadata": {},
   "outputs": [
    {
     "name": "stdout",
     "output_type": "stream",
     "text": [
      "step = 1\tx = [2; 2]\tderivattive = [14; 6]\n"
     ]
    },
    {
     "data": {
      "text/plain": [
       "([1.0; 1.0], 10.0, [0.0; 0.0])"
      ]
     },
     "execution_count": 3,
     "metadata": {},
     "output_type": "execute_result"
    }
   ],
   "source": [
    "#1 a\n",
    "Newton(\n",
    "    (x,y) -> 5*x^2+y^2+4*x*y-14*x-6*y+20,\n",
    "    (x,y) -> [10*x+4*y-14 2*y+4*x-6]',\n",
    "    (x,y) -> [10 4;4 2],\n",
    "    [2 2]'\n",
    ")"
   ]
  },
  {
   "cell_type": "code",
   "execution_count": 4,
   "metadata": {},
   "outputs": [
    {
     "data": {
      "text/plain": [
       "newton (generic function with 1 method)"
      ]
     },
     "execution_count": 4,
     "metadata": {},
     "output_type": "execute_result"
    }
   ],
   "source": [
    "function newton(f,g,h,x0;\n",
    "        ϵ=eps(),maxstep=128)     ##原函数、一阶导数、二阶导数、初始点；\n",
    "    i = 0\n",
    "    if abs(norm(g(x0))) <= ϵ\n",
    "        return x0,f(x0)\n",
    "    else\n",
    "        while abs(norm(g(x0))) > ϵ && i < maxstep\n",
    "            i += 1\n",
    "            println(\"step = \",i,\"\\t\",\"x = \",x0,\"\\t\",\"derivattive = \",g(x0))\n",
    "            if det(h(x0))==0                    ##判断黑塞矩阵是否可逆(行列式为0不可逆)；\n",
    "                println(\"ERROR : H Matrix irreversible!\",\"\\r\",\"Can't use Newton! \")\n",
    "            else\n",
    "                x0 = x0 - inv(h(x0))*g(x0)  \n",
    "            end\n",
    "        end\n",
    "        return x0,f(x0),g(x0)\n",
    "    end\n",
    "end\n",
    "\n",
    "#####未解决问题，如何使非正定变成正定"
   ]
  },
  {
   "cell_type": "code",
   "execution_count": 5,
   "metadata": {},
   "outputs": [
    {
     "name": "stdout",
     "output_type": "stream",
     "text": [
      "step = 1\tx = [0; 0]\tderivattive = [-14; -6]\n",
      "step = 2\tx = [-0.133333; 3.33333]\tderivattive = [5.32907e-15; 1.77636e-15]\n"
     ]
    },
    {
     "data": {
      "text/plain": [
       "([-0.133333; 3.33333], [0.933333], [0.0; 0.0])"
      ]
     },
     "execution_count": 5,
     "metadata": {},
     "output_type": "execute_result"
    }
   ],
   "source": [
    "#1 b\n",
    "newton(\n",
    "    x -> 1/2*x'*[20 5;5 2]*x-[14,6]'*x+10,\n",
    "    x -> [20 5;5 2]*x-[14;6],\n",
    "    x -> [20 5;5 2],\n",
    "    [0 0]'\n",
    ")"
   ]
  },
  {
   "cell_type": "code",
   "execution_count": 6,
   "metadata": {},
   "outputs": [
    {
     "name": "stdout",
     "output_type": "stream",
     "text": [
      "step = 1\tx = [0; 0]\tderivattive = [-14; -6]\n"
     ]
    },
    {
     "data": {
      "text/plain": [
       "([0.657627; 0.169492], [4.88814], [0.0; 0.0])"
      ]
     },
     "execution_count": 6,
     "metadata": {},
     "output_type": "execute_result"
    }
   ],
   "source": [
    "#1 c\n",
    "newton(\n",
    "    x -> 1/2*x'*[20 5;5 16]*x-[14,6]'*x+10,\n",
    "    x -> [20 5;5 16]*x-[14;6],\n",
    "    x -> [20 5;5 16],\n",
    "    [0 0]'\n",
    ")"
   ]
  },
  {
   "cell_type": "code",
   "execution_count": 7,
   "metadata": {},
   "outputs": [
    {
     "ename": "LoadError",
     "evalue": "\u001b[91msyntax: missing comma or ) in argument list\u001b[39m",
     "output_type": "error",
     "traceback": [
      "\u001b[91msyntax: missing comma or ) in argument list\u001b[39m",
      "",
      "Stacktrace:",
      " [1] \u001b[1minclude_string\u001b[22m\u001b[22m\u001b[1m(\u001b[22m\u001b[22m::String, ::String\u001b[1m)\u001b[22m\u001b[22m at \u001b[1m.\\loading.jl:522\u001b[22m\u001b[22m"
     ]
    }
   ],
   "source": [
    "#1 d\n",
    "Newton(\n",
    "    (x1,x2,x3,x4) -> x1-0.6*x2+4*x3+0.25*x4-log(x1)-log(x2)-log(x3)-log(x4)-log(5-log(x1)-log(x2)-log(x3)-log(x4)),\n",
    "    (x1,x2,x3,x4) -> [(log(log(x1)+log(x2)+log(x3)+log(x4)+1)-5)/(x1*(-log(x1)-log(x2)-log(x3)-log(x4)+5*log(10))+1),(log(log(x1)+log(x2)+log(x3)+log(x4)+1)-5)/(x2*(-log(x1)-log(x2)-log(x3)-log(x4)+5*log(10))-0.6),(log(log(x1)+log(x2)+log(x3)+log(x4)+1)-5)/(x3*(-log(x1)-log(x2)-log(x3)-log(x4)+5*log(10))+4),(log(log(x1)+log(x2)+log(x3)+log(x4)+1)-5)/(x4*(-log(x1)-log(x2)-log(x3)-log(x4)+5*log(10))+0.25)]\n",
    "     x -> [20 5;5 16],\n",
    "    [0 0]'\n",
    ")"
   ]
  },
  {
   "cell_type": "code",
   "execution_count": 8,
   "metadata": {},
   "outputs": [
    {
     "name": "stdout",
     "output_type": "stream",
     "text": [
      "step = 1\tx = [0; 0]\tderivattive = [2; -2]\n"
     ]
    },
    {
     "data": {
      "text/plain": [
       "([0.0; 1.0], [-1.0], [0.0; 0.0])"
      ]
     },
     "execution_count": 8,
     "metadata": {},
     "output_type": "execute_result"
    }
   ],
   "source": [
    "#1 e\n",
    "newton(\n",
    "    x -> 1/2*x'*[4 -2;-2 2]*x+[2,-2]'*x,\n",
    "    x -> [4 -2;-2 2]*x+[2,-2],\n",
    "    x -> [4 -2;-2 2],\n",
    "    [0 0]'\n",
    ")"
   ]
  },
  {
   "cell_type": "markdown",
   "metadata": {},
   "source": [
    "# Levenberg-Marquardt修正"
   ]
  },
  {
   "cell_type": "code",
   "execution_count": 9,
   "metadata": {},
   "outputs": [
    {
     "data": {
      "text/plain": [
       "LM (generic function with 1 method)"
      ]
     },
     "execution_count": 9,
     "metadata": {},
     "output_type": "execute_result"
    }
   ],
   "source": [
    "function LM(f,g,h,x0;\n",
    "        ϵ=eps(),maxstep=128)     ##原函数、一阶导数、二阶导数、初始点；\n",
    "    i = 0\n",
    "    if abs(norm(g(x0...))) <= ϵ\n",
    "        return x0,f(x0...)\n",
    "    else\n",
    "        while abs(norm(g(x0...))) > ϵ && i < maxstep\n",
    "            i += 1\n",
    "            α=0.1\n",
    "            μ=0.0001\n",
    "            println(\"step = \",i,\"\\t\",\"x = \",x0,\"\\t\",\"derivattive = \",g(x0...))\n",
    "            x0 = x0 -α*(inv(h(x0...)+μ*eye(size(h(x0...))[1])))*g(x0...)\n",
    "        end\n",
    "        return x0,f(x0...),g(x0...)\n",
    "    end\n",
    "end"
   ]
  },
  {
   "cell_type": "code",
   "execution_count": 10,
   "metadata": {},
   "outputs": [
    {
     "name": "stdout",
     "output_type": "stream",
     "text": [
      "step = 1\tx = [-2, 2]\tderivattive = [-1606; -400]\n",
      "step = 2\tx = [-1.70021; 1.00086]\tderivattive = [-1290.67; -377.974]\n",
      "step = 3\tx = [-1.43033; 0.272125]\tderivattive = [-1019.66; -354.744]\n",
      "step = 4\tx = [-1.18738; -0.245491]\tderivattive = [-790.599; -331.074]\n",
      "step = 5\tx = [-0.968698; -0.599281]\tderivattive = [-599.748; -307.532]\n",
      "step = 6\tx = [-0.77186; -0.826868]\tderivattive = [-442.775; -284.527]\n",
      "step = 7\tx = [-0.594693; -0.958101]\tderivattive = [-315.228; -262.352]\n",
      "step = 8\tx = [-0.435236; -1.01658]\tderivattive = [-212.83; -241.202]\n",
      "step = 9\tx = [-0.291719; -1.02091]\tderivattive = [-131.641; -221.202]\n",
      "step = 10\tx = [-0.162553; -0.985667]\tderivattive = [-68.1324; -202.418]\n",
      "step = 11\tx = [-0.0463023; -0.922252]\tderivattive = [-19.2133; -184.879]\n",
      "step = 12\tx = [0.0583231; -0.839501]\tderivattive = [17.7809; -168.581]\n",
      "step = 13\tx = [0.152485; -0.744227]\tderivattive = [45.1168; -153.496]\n",
      "step = 14\tx = [0.237231; -0.641635]\tderivattive = [64.7012; -139.583]\n",
      "step = 15\tx = [0.313502; -0.535656]\tderivattive = [78.1234; -126.788]\n",
      "step = 16\tx = [0.382145; -0.429222]\tderivattive = [86.6969; -115.051]\n",
      "step = 17\tx = [0.443923; -0.32448]\tderivattive = [91.4988; -104.31]\n",
      "step = 18\tx = [0.499524; -0.222961]\tderivattive = [93.4059; -94.4969]\n",
      "step = 19\tx = [0.549564; -0.12572]\tderivattive = [93.1274; -85.5481]\n",
      "step = 20\tx = [0.5946; -0.0334452]\tderivattive = [91.232; -77.3989]\n",
      "step = 21\tx = [0.635133; 0.0534558]\tderivattive = [88.1731; -69.9876]\n",
      "step = 22\tx = [0.671613; 0.134789]\tderivattive = [84.309; -63.255]\n",
      "step = 23\tx = [0.704445; 0.210517]\tderivattive = [79.92; -57.1451]\n",
      "step = 24\tx = [0.733994; 0.280721]\tderivattive = [75.2238; -51.6052]\n",
      "step = 25\tx = [0.760588; 0.345564]\tderivattive = [70.387; -46.5862]\n",
      "step = 26\tx = [0.784524; 0.405267]\tderivattive = [65.5352; -42.0421]\n",
      "step = 27\tx = [0.806066; 0.460089]\tderivattive = [60.7615; -37.9307]\n",
      "step = 28\tx = [0.825454; 0.510311]\tderivattive = [56.1332; -34.2129]\n",
      "step = 29\tx = [0.842904; 0.556225]\tderivattive = [51.6972; -30.8525]\n",
      "step = 30\tx = [0.85861; 0.598128]\tderivattive = [47.4844; -27.8166]\n",
      "step = 31\tx = [0.872745; 0.636309]\tderivattive = [43.5134; -25.0749]\n",
      "step = 32\tx = [0.885466; 0.671052]\tderivattive = [39.7936; -22.5998]\n",
      "step = 33\tx = [0.896916; 0.702629]\tderivattive = [36.327; -20.366]\n",
      "step = 34\tx = [0.907222; 0.731298]\tderivattive = [33.1107; -18.3506]\n",
      "step = 35\tx = [0.916497; 0.757302]\tderivattive = [30.1375; -16.5328]\n",
      "step = 36\tx = [0.924844; 0.78087]\tderivattive = [27.3979; -14.8935]\n",
      "step = 37\tx = [0.932358; 0.802214]\tderivattive = [24.8806; -13.4154]\n",
      "step = 38\tx = [0.93912; 0.821531]\tderivattive = [22.573; -12.083]\n",
      "step = 39\tx = [0.945206; 0.839004]\tderivattive = [20.4621; -10.8821]\n",
      "step = 40\tx = [0.950683; 0.8548]\tderivattive = [18.5346; -9.79991]\n",
      "step = 41\tx = [0.955614; 0.869073]\tderivattive = [16.7774; -8.82478]\n",
      "step = 42\tx = [0.960051; 0.881966]\tderivattive = [15.1777; -7.94624]\n",
      "step = 43\tx = [0.964044; 0.893607]\tderivattive = [13.7232; -7.15481]\n",
      "step = 44\tx = [0.967639; 0.904115]\tderivattive = [12.4022; -6.44191]\n",
      "step = 45\tx = [0.970874; 0.913597]\tderivattive = [11.2035; -5.79981]\n",
      "step = 46\tx = [0.973785; 0.92215]\tderivattive = [10.1169; -5.22153]\n",
      "step = 47\tx = [0.976406; 0.929865]\tderivattive = [9.13249; -4.70075]\n",
      "step = 48\tx = [0.978765; 0.936821]\tderivattive = [8.24138; -4.23179]\n",
      "step = 49\tx = [0.980887; 0.943093]\tderivattive = [7.43518; -3.80951]\n",
      "step = 50\tx = [0.982798; 0.948746]\tderivattive = [6.7062; -3.42929]\n",
      "step = 51\tx = [0.984518; 0.95384]\tderivattive = [6.04736; -3.08695]\n",
      "step = 52\tx = [0.986065; 0.958431]\tderivattive = [5.45216; -2.77874]\n",
      "step = 53\tx = [0.987458; 0.962568]\tderivattive = [4.91468; -2.50125]\n",
      "step = 54\tx = [0.988712; 0.966294]\tderivattive = [4.42948; -2.25144]\n",
      "step = 55\tx = [0.98984; 0.969651]\tderivattive = [3.99161; -2.02655]\n",
      "step = 56\tx = [0.990856; 0.972675]\tderivattive = [3.59656; -1.8241]\n",
      "step = 57\tx = [0.99177; 0.975399]\tderivattive = [3.24024; -1.64186]\n",
      "step = 58\tx = [0.992593; 0.977852]\tderivattive = [2.91891; -1.47781]\n",
      "step = 59\tx = [0.993333; 0.98006]\tderivattive = [2.62921; -1.33014]\n",
      "step = 60\tx = [0.994; 0.982049]\tderivattive = [2.36806; -1.19721]\n",
      "step = 61\tx = [0.9946; 0.98384]\tderivattive = [2.13269; -1.07757]\n",
      "step = 62\tx = [0.995139; 0.985453]\tderivattive = [1.92058; -0.969867]\n",
      "step = 63\tx = [0.995625; 0.986905]\tderivattive = [1.72947; -0.872928]\n",
      "step = 64\tx = [0.996063; 0.988212]\tderivattive = [1.55728; -0.785673]\n",
      "step = 65\tx = [0.996456; 0.989389]\tderivattive = [1.40217; -0.707137]\n",
      "step = 66\tx = [0.99681; 0.990449]\tderivattive = [1.26246; -0.636449]\n",
      "step = 67\tx = [0.997129; 0.991403]\tderivattive = [1.13662; -0.572824]\n",
      "step = 68\tx = [0.997416; 0.992261]\tderivattive = [1.02329; -0.515558]\n",
      "step = 69\tx = [0.997675; 0.993034]\tderivattive = [0.921223; -0.464016]\n",
      "step = 70\tx = [0.997907; 0.99373]\tderivattive = [0.829316; -0.417625]\n",
      "step = 71\tx = [0.998116; 0.994357]\tderivattive = [0.746559; -0.375871]\n",
      "step = 72\tx = [0.998305; 0.994921]\tderivattive = [0.672045; -0.338291]\n",
      "step = 73\tx = [0.998474; 0.995428]\tderivattive = [0.604955; -0.304468]\n",
      "step = 74\tx = [0.998627; 0.995885]\tderivattive = [0.544553; -0.274026]\n",
      "step = 75\tx = [0.998764; 0.996296]\tderivattive = [0.490172; -0.246627]\n",
      "step = 76\tx = [0.998887; 0.996666]\tderivattive = [0.441216; -0.221968]\n",
      "step = 77\tx = [0.998999; 0.996999]\tderivattive = [0.397144; -0.199773]\n",
      "step = 78\tx = [0.999099; 0.997299]\tderivattive = [0.35747; -0.179798]\n",
      "step = 79\tx = [0.999189; 0.997569]\tderivattive = [0.321755; -0.16182]\n",
      "step = 80\tx = [0.99927; 0.997812]\tderivattive = [0.289606; -0.145639]\n",
      "step = 81\tx = [0.999343; 0.998031]\tderivattive = [0.260666; -0.131076]\n",
      "step = 82\tx = [0.999409; 0.998228]\tderivattive = [0.234617; -0.11797]\n",
      "step = 83\tx = [0.999468; 0.998405]\tderivattive = [0.211169; -0.106173]\n",
      "step = 84\tx = [0.999521; 0.998564]\tderivattive = [0.190064; -0.0955566]\n",
      "step = 85\tx = [0.999569; 0.998708]\tderivattive = [0.171066; -0.0860014]\n",
      "step = 86\tx = [0.999612; 0.998837]\tderivattive = [0.153967; -0.0774017]\n",
      "step = 87\tx = [0.999651; 0.998953]\tderivattive = [0.138576; -0.0696618]\n",
      "step = 88\tx = [0.999686; 0.999058]\tderivattive = [0.124724; -0.0626959]\n",
      "step = 89\tx = [0.999717; 0.999152]\tderivattive = [0.112255; -0.0564265]\n",
      "step = 90\tx = [0.999745; 0.999237]\tderivattive = [0.101033; -0.050784]\n",
      "step = 91\tx = [0.999771; 0.999313]\tderivattive = [0.0909322; -0.0457058]\n",
      "step = 92\tx = [0.999794; 0.999382]\tderivattive = [0.0818411; -0.0411353]\n",
      "step = 93\tx = [0.999814; 0.999444]\tderivattive = [0.0736587; -0.0370219]\n",
      "step = 94\tx = [0.999833; 0.999499]\tderivattive = [0.0662942; -0.0333198]\n",
      "step = 95\tx = [0.99985; 0.999549]\tderivattive = [0.0596659; -0.0299878]\n",
      "step = 96\tx = [0.999865; 0.999594]\tderivattive = [0.0537002; -0.0269891]\n",
      "step = 97\tx = [0.999878; 0.999635]\tderivattive = [0.0483309; -0.0242902]\n",
      "step = 98\tx = [0.99989; 0.999671]\tderivattive = [0.0434984; -0.0218612]\n",
      "step = 99\tx = [0.999901; 0.999704]\tderivattive = [0.039149; -0.0196751]\n",
      "step = 100\tx = [0.999911; 0.999734]\tderivattive = [0.0352345; -0.0177077]\n",
      "step = 101\tx = [0.99992; 0.99976]\tderivattive = [0.0317114; -0.0159369]\n",
      "step = 102\tx = [0.999928; 0.999784]\tderivattive = [0.0285405; -0.0143432]\n",
      "step = 103\tx = [0.999935; 0.999806]\tderivattive = [0.0256866; -0.0129089]\n",
      "step = 104\tx = [0.999942; 0.999825]\tderivattive = [0.0231181; -0.011618]\n",
      "step = 105\tx = [0.999948; 0.999843]\tderivattive = [0.0208065; -0.0104562]\n",
      "step = 106\tx = [0.999953; 0.999859]\tderivattive = [0.0187259; -0.00941063]\n",
      "step = 107\tx = [0.999958; 0.999873]\tderivattive = [0.0168534; -0.00846957]\n",
      "step = 108\tx = [0.999962; 0.999885]\tderivattive = [0.0151682; -0.00762262]\n",
      "step = 109\tx = [0.999966; 0.999897]\tderivattive = [0.0136514; -0.00686036]\n",
      "step = 110\tx = [0.999969; 0.999907]\tderivattive = [0.0122863; -0.00617433]\n",
      "step = 111\tx = [0.999972; 0.999916]\tderivattive = [0.0110577; -0.0055569]\n",
      "step = 112\tx = [0.999975; 0.999925]\tderivattive = [0.00995197; -0.00500121]\n",
      "step = 113\tx = [0.999977; 0.999932]\tderivattive = [0.0089568; -0.00450109]\n",
      "step = 114\tx = [0.99998; 0.999939]\tderivattive = [0.00806114; -0.00405098]\n",
      "step = 115\tx = [0.999982; 0.999945]\tderivattive = [0.00725504; -0.00364589]\n",
      "step = 116\tx = [0.999984; 0.999951]\tderivattive = [0.00652955; -0.0032813]\n",
      "step = 117\tx = [0.999985; 0.999956]\tderivattive = [0.00587661; -0.00295317]\n",
      "step = 118\tx = [0.999987; 0.99996]\tderivattive = [0.00528895; -0.00265785]\n",
      "step = 119\tx = [0.999988; 0.999964]\tderivattive = [0.00476007; -0.00239207]\n",
      "step = 120\tx = [0.999989; 0.999968]\tderivattive = [0.00428406; -0.00215286]\n",
      "step = 121\tx = [0.99999; 0.999971]\tderivattive = [0.00385566; -0.00193758]\n",
      "step = 122\tx = [0.999991; 0.999974]\tderivattive = [0.0034701; -0.00174382]\n",
      "step = 123\tx = [0.999992; 0.999976]\tderivattive = [0.00312309; -0.00156944]\n",
      "step = 124\tx = [0.999993; 0.999979]\tderivattive = [0.00281079; -0.0014125]\n",
      "step = 125\tx = [0.999994; 0.999981]\tderivattive = [0.00252971; -0.00127125]\n",
      "step = 126\tx = [0.999994; 0.999983]\tderivattive = [0.00227674; -0.00114412]\n",
      "step = 127\tx = [0.999995; 0.999985]\tderivattive = [0.00204907; -0.00102971]\n",
      "step = 128\tx = [0.999995; 0.999986]\tderivattive = [0.00184416; -0.000926739]\n"
     ]
    },
    {
     "data": {
      "text/plain": [
       "([0.999996; 0.999987], 1.7567061070489677e-9, [0.00165975; -0.000834065])"
      ]
     },
     "execution_count": 10,
     "metadata": {},
     "output_type": "execute_result"
    }
   ],
   "source": [
    "LM(\n",
    "    (x,y)->(1-x)^2+100(y-x^2)^2,\n",
    "    (x,y)->[2*(x-1)+200*(y-x^2)*(-2*x) 200*(y-x^2)]',\n",
    "    (x,y)->[2+800*x^2 -400*x;-400*x 200],\n",
    "    [-2;2]\n",
    ")"
   ]
  },
  {
   "cell_type": "code",
   "execution_count": null,
   "metadata": {},
   "outputs": [],
   "source": []
  }
 ],
 "metadata": {
  "kernelspec": {
   "display_name": "Julia 0.6.2",
   "language": "julia",
   "name": "julia-0.6"
  },
  "language_info": {
   "file_extension": ".jl",
   "mimetype": "application/julia",
   "name": "julia",
   "version": "0.6.2"
  }
 },
 "nbformat": 4,
 "nbformat_minor": 2
}
